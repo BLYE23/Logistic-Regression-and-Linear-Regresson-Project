{
 "cells": [
  {
   "cell_type": "code",
   "execution_count": 1,
   "id": "748b7eb2",
   "metadata": {},
   "outputs": [],
   "source": [
    "# Problem 3\n",
    "import numpy as np\n",
    "import matplotlib.pyplot as plt\n",
    "import random"
   ]
  },
  {
   "cell_type": "code",
   "execution_count": 2,
   "id": "bd9ad57b",
   "metadata": {},
   "outputs": [],
   "source": [
    "# find the gradient of intercept\n",
    "def intercept_gradient(y,y_predicted):\n",
    "    gradient = (y_predicted - y)\n",
    "    return gradient"
   ]
  },
  {
   "cell_type": "code",
   "execution_count": 3,
   "id": "523c92c5",
   "metadata": {},
   "outputs": [],
   "source": [
    "# find the gradient of weight\n",
    "def weight_gradient(x,y,y_predicted):\n",
    "    gradient= x*(y_predicted - y)\n",
    "    return gradient"
   ]
  },
  {
   "cell_type": "code",
   "execution_count": 4,
   "id": "440a3648",
   "metadata": {},
   "outputs": [],
   "source": [
    "# find the predicted value\n",
    "def predict_y(x,weights,intercept):\n",
    "    y_predicted = x @ weights + intercept\n",
    "    return y_predicted"
   ]
  },
  {
   "cell_type": "code",
   "execution_count": 5,
   "id": "41eea4cc",
   "metadata": {},
   "outputs": [],
   "source": [
    "# stochastic gradient descent\n",
    "def SGD(X,Y):\n",
    "    m = np.shape(X)[0]   # total number of samples\n",
    "    n = np.shape(X)[1]   # total number of features\n",
    "    weights = np.zeros(X.shape[1]) # initialize the weights vector\n",
    "    intercept = 0     # initialize the intercept\n",
    "    number_of_iterations = 5000   # total number of steps\n",
    "    learning_rate = 0.01   # set the learning rate\n",
    "    square_error = []\n",
    "    random.seed(265)\n",
    "    \n",
    "    for i in range(number_of_iterations):\n",
    "        r = random.randint(0,14447)  # 14447 is the length of trainning set\n",
    "        x = X[r]\n",
    "        y = Y[r]\n",
    "        y_predicted = predict_y(x,weights,intercept)\n",
    "        error = y_predicted - y\n",
    "        se = error**2\n",
    "        square_error.append(se)\n",
    "        \n",
    "        # update weights\n",
    "        weights = weights - learning_rate * weight_gradient(x,y,y_predicted)\n",
    "        \n",
    "        # update intercept\n",
    "        intercept = intercept - learning_rate * intercept_gradient(y,y_predicted)\n",
    "        \n",
    "    # plot a graph of squared error versus numer of updates\n",
    "    plt.plot(np.arange(1,number_of_iterations),square_error[1:])\n",
    "    plt.ylim((0,1))\n",
    "    plt.xlabel(\"number of updates\")\n",
    "    plt.ylabel(\"squared error\")\n",
    "    \n",
    "    return weights,intercept"
   ]
  },
  {
   "cell_type": "code",
   "execution_count": 6,
   "id": "bbd280ea",
   "metadata": {},
   "outputs": [
    {
     "data": {
      "text/html": [
       "<div>\n",
       "<style scoped>\n",
       "    .dataframe tbody tr th:only-of-type {\n",
       "        vertical-align: middle;\n",
       "    }\n",
       "\n",
       "    .dataframe tbody tr th {\n",
       "        vertical-align: top;\n",
       "    }\n",
       "\n",
       "    .dataframe thead th {\n",
       "        text-align: right;\n",
       "    }\n",
       "</style>\n",
       "<table border=\"1\" class=\"dataframe\">\n",
       "  <thead>\n",
       "    <tr style=\"text-align: right;\">\n",
       "      <th></th>\n",
       "      <th>MedInc</th>\n",
       "      <th>HouseAge</th>\n",
       "      <th>AveRooms</th>\n",
       "      <th>AveBedrms</th>\n",
       "      <th>Population</th>\n",
       "      <th>AveOccup</th>\n",
       "      <th>Latitude</th>\n",
       "      <th>Longitude</th>\n",
       "      <th>MedHouseVal</th>\n",
       "    </tr>\n",
       "  </thead>\n",
       "  <tbody>\n",
       "    <tr>\n",
       "      <th>0</th>\n",
       "      <td>8.3252</td>\n",
       "      <td>41.0</td>\n",
       "      <td>6.984127</td>\n",
       "      <td>1.023810</td>\n",
       "      <td>322.0</td>\n",
       "      <td>2.555556</td>\n",
       "      <td>37.88</td>\n",
       "      <td>-122.23</td>\n",
       "      <td>4.526</td>\n",
       "    </tr>\n",
       "    <tr>\n",
       "      <th>1</th>\n",
       "      <td>8.3014</td>\n",
       "      <td>21.0</td>\n",
       "      <td>6.238137</td>\n",
       "      <td>0.971880</td>\n",
       "      <td>2401.0</td>\n",
       "      <td>2.109842</td>\n",
       "      <td>37.86</td>\n",
       "      <td>-122.22</td>\n",
       "      <td>3.585</td>\n",
       "    </tr>\n",
       "    <tr>\n",
       "      <th>2</th>\n",
       "      <td>7.2574</td>\n",
       "      <td>52.0</td>\n",
       "      <td>8.288136</td>\n",
       "      <td>1.073446</td>\n",
       "      <td>496.0</td>\n",
       "      <td>2.802260</td>\n",
       "      <td>37.85</td>\n",
       "      <td>-122.24</td>\n",
       "      <td>3.521</td>\n",
       "    </tr>\n",
       "    <tr>\n",
       "      <th>3</th>\n",
       "      <td>5.6431</td>\n",
       "      <td>52.0</td>\n",
       "      <td>5.817352</td>\n",
       "      <td>1.073059</td>\n",
       "      <td>558.0</td>\n",
       "      <td>2.547945</td>\n",
       "      <td>37.85</td>\n",
       "      <td>-122.25</td>\n",
       "      <td>3.413</td>\n",
       "    </tr>\n",
       "    <tr>\n",
       "      <th>4</th>\n",
       "      <td>3.8462</td>\n",
       "      <td>52.0</td>\n",
       "      <td>6.281853</td>\n",
       "      <td>1.081081</td>\n",
       "      <td>565.0</td>\n",
       "      <td>2.181467</td>\n",
       "      <td>37.85</td>\n",
       "      <td>-122.25</td>\n",
       "      <td>3.422</td>\n",
       "    </tr>\n",
       "  </tbody>\n",
       "</table>\n",
       "</div>"
      ],
      "text/plain": [
       "   MedInc  HouseAge  AveRooms  AveBedrms  Population  AveOccup  Latitude  \\\n",
       "0  8.3252      41.0  6.984127   1.023810       322.0  2.555556     37.88   \n",
       "1  8.3014      21.0  6.238137   0.971880      2401.0  2.109842     37.86   \n",
       "2  7.2574      52.0  8.288136   1.073446       496.0  2.802260     37.85   \n",
       "3  5.6431      52.0  5.817352   1.073059       558.0  2.547945     37.85   \n",
       "4  3.8462      52.0  6.281853   1.081081       565.0  2.181467     37.85   \n",
       "\n",
       "   Longitude  MedHouseVal  \n",
       "0    -122.23        4.526  \n",
       "1    -122.22        3.585  \n",
       "2    -122.24        3.521  \n",
       "3    -122.25        3.413  \n",
       "4    -122.25        3.422  "
      ]
     },
     "execution_count": 6,
     "metadata": {},
     "output_type": "execute_result"
    }
   ],
   "source": [
    "# import the dataset\n",
    "from sklearn.datasets import fetch_california_housing\n",
    "california_housing = fetch_california_housing(as_frame=True)\n",
    "DF = california_housing.frame\n",
    "DF.head()"
   ]
  },
  {
   "cell_type": "code",
   "execution_count": 7,
   "id": "d1f7ca31",
   "metadata": {},
   "outputs": [],
   "source": [
    "# b & c) choose the independent features as X and choose target feature Y\n",
    "x = DF[['MedInc','HouseAge','AveRooms','AveBedrms','Population',\n",
    "        'AveOccup','Latitude','Longitude']].values\n",
    "y = DF[['MedHouseVal']].values"
   ]
  },
  {
   "cell_type": "code",
   "execution_count": 8,
   "id": "439edec9",
   "metadata": {},
   "outputs": [],
   "source": [
    "# d) 0 - 1 normalization on X and Y\n",
    "from sklearn.preprocessing import MinMaxScaler\n",
    "scaler = MinMaxScaler()\n",
    "x = scaler.fit_transform(x)\n",
    "y = scaler.fit_transform(y)"
   ]
  },
  {
   "cell_type": "code",
   "execution_count": 9,
   "id": "4b3090ce",
   "metadata": {},
   "outputs": [],
   "source": [
    "# randomly split data into trainning and test sets\n",
    "from sklearn.model_selection import train_test_split\n",
    "x_train,x_test,y_train,y_test = train_test_split(x,y,test_size = 0.3,random_state = 265)"
   ]
  },
  {
   "cell_type": "code",
   "execution_count": 10,
   "id": "39eea095",
   "metadata": {},
   "outputs": [
    {
     "name": "stdout",
     "output_type": "stream",
     "text": [
      "Weights: [ 0.77752415  0.11892458  0.03479236  0.00530762  0.00893102 -0.00379474\n",
      " -0.13080282 -0.07408918]\n",
      "Intercept: [0.21669483]\n",
      "MSE: 0.031076966697939037\n"
     ]
    },
    {
     "data": {
      "image/png": "[encoded data removed]",
      "text/plain": [
       "<Figure size 640x480 with 1 Axes>"
      ]
     },
     "metadata": {},
     "output_type": "display_data"
    }
   ],
   "source": [
    "# g) get the best set of parameters\n",
    "from sklearn.metrics import mean_squared_error\n",
    "weights,intercept = SGD(x_train,y_train)\n",
    "print(\"Weights:\",weights)\n",
    "print(\"Intercept:\", intercept)\n",
    "\n",
    "# use test set to calculate the MSE\n",
    "y_predicted = []\n",
    "for x in x_test:\n",
    "    yhat = predict_y(x,weights,intercept)\n",
    "    y_predicted.append(yhat)\n",
    "print(\"MSE:\",mean_squared_error(y_test,y_predicted))"
   ]
  },
  {
   "cell_type": "code",
   "execution_count": 11,
   "id": "161315c7",
   "metadata": {},
   "outputs": [],
   "source": [
    "# h)\n",
    "# The weights are [ 0.77752415  0.11892458  0.03479236  0.00530762  \n",
    "#                  0.00893102 -0.00379474  -0.13080282 -0.07408918]\n",
    "# The intercept are 0.21669483\n",
    "# From the weights, we can find that MedInc which explain the house prices the most."
   ]
  },
  {
   "cell_type": "code",
   "execution_count": 12,
   "id": "4d4df296",
   "metadata": {},
   "outputs": [],
   "source": [
    "# Problem 4"
   ]
  },
  {
   "cell_type": "code",
   "execution_count": 13,
   "id": "dac0b2dd",
   "metadata": {},
   "outputs": [
    {
     "name": "stderr",
     "output_type": "stream",
     "text": [
      "C:\\ProgramData\\Anaconda3\\lib\\site-packages\\sklearn\\utils\\validation.py:993: DataConversionWarning: A column-vector y was passed when a 1d array was expected. Please change the shape of y to (n_samples, ), for example using ravel().\n",
      "  y = column_or_1d(y, warn=True)\n"
     ]
    },
    {
     "data": {
      "text/plain": [
       "SGDRegressor(alpha=0.01, max_iter=5000, random_state=265)"
      ]
     },
     "execution_count": 13,
     "metadata": {},
     "output_type": "execute_result"
    }
   ],
   "source": [
    "# c) use sklearn SGDRegressor to find the best parameters and intercept\n",
    "from sklearn.linear_model import SGDRegressor\n",
    "sgd = SGDRegressor(max_iter=5000, alpha = 0.01, random_state = 265)\n",
    "sgd.fit(x_train, y_train)"
   ]
  },
  {
   "cell_type": "code",
   "execution_count": 14,
   "id": "f61096e1",
   "metadata": {},
   "outputs": [
    {
     "name": "stdout",
     "output_type": "stream",
     "text": [
      "[0.27986693]\n"
     ]
    }
   ],
   "source": [
    "# d)\n",
    "print(sgd.intercept_)"
   ]
  },
  {
   "cell_type": "code",
   "execution_count": 15,
   "id": "a5c22335",
   "metadata": {},
   "outputs": [
    {
     "name": "stdout",
     "output_type": "stream",
     "text": [
      "[ 0.74289115  0.12123235  0.02459013  0.00144189  0.00494056 -0.00390117\n",
      " -0.17298551 -0.13952611]\n"
     ]
    }
   ],
   "source": [
    "print(sgd.coef_)"
   ]
  },
  {
   "cell_type": "code",
   "execution_count": 16,
   "id": "53bee483",
   "metadata": {},
   "outputs": [],
   "source": [
    "# e)\n",
    "# The weights are [ 0.74289115  0.12123235  0.02459013  0.00144189  \n",
    "#                  0.00494056 -0.00390117  -0.17298551 -0.13952611]\n",
    "# The intercept are 0.27986693\n",
    "# From the weights, we can find that MedInc which explain the house prices the most.\n",
    "# There is only a small difference between those two results. The reason of difference might be that SGDGressor has a criterion\n",
    "# of convergence of cost function so it might stop trainning early, which might cause the small difference between two results."
   ]
  },
  {
   "cell_type": "code",
   "execution_count": 17,
   "id": "41bce7fe",
   "metadata": {},
   "outputs": [],
   "source": [
    "# Problem 5"
   ]
  },
  {
   "cell_type": "code",
   "execution_count": 18,
   "id": "a544a76b",
   "metadata": {},
   "outputs": [],
   "source": [
    "# compute the mean matrix of a matrix\n",
    "def Mean(matrix):\n",
    "    sum = 0\n",
    "    row = matrix.shape[0]\n",
    "    column = matrix.shape[1]\n",
    "    for i in range(column):\n",
    "        sum = 0\n",
    "        for j in range(row):\n",
    "            sum += matrix[j][i]\n",
    "        mean = sum / row\n",
    "        mean_column = np.full(row,mean)\n",
    "        matrix[:,i] = mean_column\n",
    "    return matrix"
   ]
  },
  {
   "cell_type": "code",
   "execution_count": 19,
   "id": "190a3ab5",
   "metadata": {},
   "outputs": [],
   "source": [
    "# a function that used to perform dot product between two matrices\n",
    "def Dot(matrix1, matrix2):\n",
    "    output_matrix_list = []\n",
    "    for i in range(matrix1.shape[0]):\n",
    "        row_list = []\n",
    "        for j in range(matrix2.shape[1]):\n",
    "            number = sum([n*m for (n,m) in zip(matrix1[i,:],matrix2[:,j])])\n",
    "            row_list.append(number)\n",
    "        output_matrix_list.append(row_list)\n",
    "    output_matrix = np.array(output_matrix_list)\n",
    "    return output_matrix"
   ]
  },
  {
   "cell_type": "code",
   "execution_count": 20,
   "id": "46877979",
   "metadata": {},
   "outputs": [],
   "source": [
    "# a function that used to perform transpose of a matrix\n",
    "def Transpose(matrix):\n",
    "    row = matrix.shape[0]\n",
    "    column = matrix.shape[1]\n",
    "    transpose_matrix = np.zeros((column,row))\n",
    "    for i in range(row):\n",
    "        for j in range(column):\n",
    "            transpose_matrix[j][i] = matrix[i][j]\n",
    "    return transpose_matrix"
   ]
  },
  {
   "cell_type": "code",
   "execution_count": 21,
   "id": "a56f9be3",
   "metadata": {},
   "outputs": [
    {
     "name": "stdout",
     "output_type": "stream",
     "text": [
      "[[ 3.60932256e+00 -2.84614028e+00  1.53656801e+00 -5.58575949e-02\n",
      "   1.04009792e+01  3.70288896e-01 -3.23859753e-01 -5.77647021e-02]\n",
      " [-2.84614028e+00  1.58396260e+02 -4.77288245e+00 -4.63718412e-01\n",
      "  -4.22227058e+03  1.72429796e+00  3.00345508e-01 -2.72824366e+00]\n",
      " [ 1.53656801e+00 -4.77288245e+00  6.12153272e+00  9.93867801e-01\n",
      "  -2.02333712e+02 -1.24688866e-01  5.62235473e-01 -1.36518371e-01]\n",
      " [-5.58575949e-02 -4.63718412e-01  9.93867801e-01  2.24591500e-01\n",
      "  -3.55272253e+01 -3.04242537e-02  7.05752856e-02  1.26704371e-02]\n",
      " [ 1.04009792e+01 -4.22227058e+03 -2.02333712e+02 -3.55272253e+01\n",
      "   1.28247046e+06  8.21712002e+02 -2.63137814e+02  2.26377839e+02]\n",
      " [ 3.70288896e-01  1.72429796e+00 -1.24688866e-01 -3.04242537e-02\n",
      "   8.21712002e+02  1.07870026e+02  5.24916416e-02  5.15187178e-02]\n",
      " [-3.23859753e-01  3.00345508e-01  5.62235473e-01  7.05752856e-02\n",
      "  -2.63137814e+02  5.24916416e-02  4.56229264e+00 -3.95705372e+00]\n",
      " [-5.77647021e-02 -2.72824366e+00 -1.36518371e-01  1.26704371e-02\n",
      "   2.26377839e+02  5.15187178e-02 -3.95705372e+00  4.01413937e+00]]\n"
     ]
    }
   ],
   "source": [
    "# test the function\n",
    "A = DF[['MedInc','HouseAge','AveRooms','AveBedrms','Population','AveOccup','Latitude','Longitude']].values\n",
    "B = DF[['MedInc','HouseAge','AveRooms','AveBedrms','Population','AveOccup','Latitude','Longitude']].values\n",
    "\n",
    "mean = Mean(A)\n",
    "cov = (Dot(Transpose(B - mean),(B - mean)))/(A.shape[0] - 1)\n",
    "print(cov)"
   ]
  },
  {
   "cell_type": "code",
   "execution_count": 22,
   "id": "ffcb215c",
   "metadata": {},
   "outputs": [],
   "source": [
    "# Problem 7"
   ]
  },
  {
   "cell_type": "code",
   "execution_count": 23,
   "id": "5b4a3b09",
   "metadata": {},
   "outputs": [],
   "source": [
    "# a) perform sigmoid function\n",
    "def sigmoid_f(z):\n",
    "    return 1.0/(1.0 + np.exp(-z))"
   ]
  },
  {
   "cell_type": "code",
   "execution_count": 24,
   "id": "aeb9746b",
   "metadata": {},
   "outputs": [],
   "source": [
    "# b) from result of sigmoid function to the predicted label\n",
    "def classifier_f(x,w,b):\n",
    "    m = x.shape[1]\n",
    "    y_prediction = np.zeros((1,m))\n",
    "    yh = sigmoid_f(np.dot(w.T,x)+b)   # get the result of sigmoid function\n",
    "    \n",
    "    # determine its label(0 or 1)\n",
    "    for i in range(m):\n",
    "        if yh[0, i] < 0.5:\n",
    "            y_prediction[0,i] = 0\n",
    "        else:\n",
    "            y_prediction[0,i] = 1\n",
    "    return y_prediction"
   ]
  },
  {
   "cell_type": "code",
   "execution_count": 25,
   "id": "fa614196",
   "metadata": {},
   "outputs": [],
   "source": [
    "# c) cost function\n",
    "def binary_loss_f(yh, y):\n",
    "    m = y.shape[1]\n",
    "    cost = -1/m * (np.sum(y * np.log(yh) + (1 - y) * np.log(1 - yh)))\n",
    "    return cost"
   ]
  },
  {
   "cell_type": "code",
   "execution_count": 26,
   "id": "605c807f",
   "metadata": {},
   "outputs": [],
   "source": [
    "# d) find the gradient of weights and intercept\n",
    "def gradient_f(x, yh, y):\n",
    "    m = x.shape[1]\n",
    "    error = yh - y\n",
    "    \n",
    "    weight_gradient = 1/m * (np.dot(x, error.T))\n",
    "    intercept_gradient = 1/m * (np.sum(error))\n",
    "    \n",
    "    # use dictionary to store gradients\n",
    "    grads = {\"weight\": weight_gradient, \"intercept\": intercept_gradient}\n",
    "    \n",
    "    return grads"
   ]
  },
  {
   "cell_type": "code",
   "execution_count": 27,
   "id": "aa78a529",
   "metadata": {},
   "outputs": [],
   "source": [
    "# e) \n",
    "def optimizer_f(x,y):\n",
    "    n = x.shape[0]\n",
    "    weights = np.zeros((n,1))\n",
    "    intercept = 0\n",
    "    learning_rate = 0.05\n",
    "    epochs = 10000\n",
    "    cost = []\n",
    "    \n",
    "    for i in range(epochs):\n",
    "        yh = sigmoid_f(np.dot(weights.T,x)+intercept)\n",
    "        grads = gradient_f(x,yh,y)\n",
    "        \n",
    "        # update weights\n",
    "        weights = weights - learning_rate*grads[\"weight\"]\n",
    "        # update intercept\n",
    "        intercept = intercept - learning_rate * grads[\"intercept\"]\n",
    "        \n",
    "        cost.append(binary_loss_f(yh,y))\n",
    "        \n",
    "    # find the predicted value of y to calculate the accuracy\n",
    "    y_predicted = classifier_f(x,weights,intercept)\n",
    "    accuracy = 1 - np.mean(np.abs(y_predicted - y))\n",
    "    print(\"Accuracy\",accuracy)\n",
    "    \n",
    "    # plot the graph of cost versus number of updates\n",
    "    plt.plot(np.arange(1,epochs),cost[1:])\n",
    "    plt.xlabel(\"number of updates\")\n",
    "    plt.ylabel(\"cost\")\n",
    "    \n",
    "    return weights, intercept"
   ]
  },
  {
   "cell_type": "code",
   "execution_count": 28,
   "id": "07901036",
   "metadata": {},
   "outputs": [
    {
     "data": {
      "text/html": [
       "<div>\n",
       "<style scoped>\n",
       "    .dataframe tbody tr th:only-of-type {\n",
       "        vertical-align: middle;\n",
       "    }\n",
       "\n",
       "    .dataframe tbody tr th {\n",
       "        vertical-align: top;\n",
       "    }\n",
       "\n",
       "    .dataframe thead th {\n",
       "        text-align: right;\n",
       "    }\n",
       "</style>\n",
       "<table border=\"1\" class=\"dataframe\">\n",
       "  <thead>\n",
       "    <tr style=\"text-align: right;\">\n",
       "      <th></th>\n",
       "      <th>mean radius</th>\n",
       "      <th>mean texture</th>\n",
       "      <th>mean perimeter</th>\n",
       "      <th>mean area</th>\n",
       "      <th>mean smoothness</th>\n",
       "      <th>mean compactness</th>\n",
       "      <th>mean concavity</th>\n",
       "      <th>mean concave points</th>\n",
       "      <th>mean symmetry</th>\n",
       "      <th>mean fractal dimension</th>\n",
       "      <th>...</th>\n",
       "      <th>worst texture</th>\n",
       "      <th>worst perimeter</th>\n",
       "      <th>worst area</th>\n",
       "      <th>worst smoothness</th>\n",
       "      <th>worst compactness</th>\n",
       "      <th>worst concavity</th>\n",
       "      <th>worst concave points</th>\n",
       "      <th>worst symmetry</th>\n",
       "      <th>worst fractal dimension</th>\n",
       "      <th>target</th>\n",
       "    </tr>\n",
       "  </thead>\n",
       "  <tbody>\n",
       "    <tr>\n",
       "      <th>0</th>\n",
       "      <td>17.99</td>\n",
       "      <td>10.38</td>\n",
       "      <td>122.80</td>\n",
       "      <td>1001.0</td>\n",
       "      <td>0.11840</td>\n",
       "      <td>0.27760</td>\n",
       "      <td>0.3001</td>\n",
       "      <td>0.14710</td>\n",
       "      <td>0.2419</td>\n",
       "      <td>0.07871</td>\n",
       "      <td>...</td>\n",
       "      <td>17.33</td>\n",
       "      <td>184.60</td>\n",
       "      <td>2019.0</td>\n",
       "      <td>0.1622</td>\n",
       "      <td>0.6656</td>\n",
       "      <td>0.7119</td>\n",
       "      <td>0.2654</td>\n",
       "      <td>0.4601</td>\n",
       "      <td>0.11890</td>\n",
       "      <td>0</td>\n",
       "    </tr>\n",
       "    <tr>\n",
       "      <th>1</th>\n",
       "      <td>20.57</td>\n",
       "      <td>17.77</td>\n",
       "      <td>132.90</td>\n",
       "      <td>1326.0</td>\n",
       "      <td>0.08474</td>\n",
       "      <td>0.07864</td>\n",
       "      <td>0.0869</td>\n",
       "      <td>0.07017</td>\n",
       "      <td>0.1812</td>\n",
       "      <td>0.05667</td>\n",
       "      <td>...</td>\n",
       "      <td>23.41</td>\n",
       "      <td>158.80</td>\n",
       "      <td>1956.0</td>\n",
       "      <td>0.1238</td>\n",
       "      <td>0.1866</td>\n",
       "      <td>0.2416</td>\n",
       "      <td>0.1860</td>\n",
       "      <td>0.2750</td>\n",
       "      <td>0.08902</td>\n",
       "      <td>0</td>\n",
       "    </tr>\n",
       "    <tr>\n",
       "      <th>2</th>\n",
       "      <td>19.69</td>\n",
       "      <td>21.25</td>\n",
       "      <td>130.00</td>\n",
       "      <td>1203.0</td>\n",
       "      <td>0.10960</td>\n",
       "      <td>0.15990</td>\n",
       "      <td>0.1974</td>\n",
       "      <td>0.12790</td>\n",
       "      <td>0.2069</td>\n",
       "      <td>0.05999</td>\n",
       "      <td>...</td>\n",
       "      <td>25.53</td>\n",
       "      <td>152.50</td>\n",
       "      <td>1709.0</td>\n",
       "      <td>0.1444</td>\n",
       "      <td>0.4245</td>\n",
       "      <td>0.4504</td>\n",
       "      <td>0.2430</td>\n",
       "      <td>0.3613</td>\n",
       "      <td>0.08758</td>\n",
       "      <td>0</td>\n",
       "    </tr>\n",
       "    <tr>\n",
       "      <th>3</th>\n",
       "      <td>11.42</td>\n",
       "      <td>20.38</td>\n",
       "      <td>77.58</td>\n",
       "      <td>386.1</td>\n",
       "      <td>0.14250</td>\n",
       "      <td>0.28390</td>\n",
       "      <td>0.2414</td>\n",
       "      <td>0.10520</td>\n",
       "      <td>0.2597</td>\n",
       "      <td>0.09744</td>\n",
       "      <td>...</td>\n",
       "      <td>26.50</td>\n",
       "      <td>98.87</td>\n",
       "      <td>567.7</td>\n",
       "      <td>0.2098</td>\n",
       "      <td>0.8663</td>\n",
       "      <td>0.6869</td>\n",
       "      <td>0.2575</td>\n",
       "      <td>0.6638</td>\n",
       "      <td>0.17300</td>\n",
       "      <td>0</td>\n",
       "    </tr>\n",
       "    <tr>\n",
       "      <th>4</th>\n",
       "      <td>20.29</td>\n",
       "      <td>14.34</td>\n",
       "      <td>135.10</td>\n",
       "      <td>1297.0</td>\n",
       "      <td>0.10030</td>\n",
       "      <td>0.13280</td>\n",
       "      <td>0.1980</td>\n",
       "      <td>0.10430</td>\n",
       "      <td>0.1809</td>\n",
       "      <td>0.05883</td>\n",
       "      <td>...</td>\n",
       "      <td>16.67</td>\n",
       "      <td>152.20</td>\n",
       "      <td>1575.0</td>\n",
       "      <td>0.1374</td>\n",
       "      <td>0.2050</td>\n",
       "      <td>0.4000</td>\n",
       "      <td>0.1625</td>\n",
       "      <td>0.2364</td>\n",
       "      <td>0.07678</td>\n",
       "      <td>0</td>\n",
       "    </tr>\n",
       "  </tbody>\n",
       "</table>\n",
       "<p>5 rows × 31 columns</p>\n",
       "</div>"
      ],
      "text/plain": [
       "   mean radius  mean texture  mean perimeter  mean area  mean smoothness  \\\n",
       "0        17.99         10.38          122.80     1001.0          0.11840   \n",
       "1        20.57         17.77          132.90     1326.0          0.08474   \n",
       "2        19.69         21.25          130.00     1203.0          0.10960   \n",
       "3        11.42         20.38           77.58      386.1          0.14250   \n",
       "4        20.29         14.34          135.10     1297.0          0.10030   \n",
       "\n",
       "   mean compactness  mean concavity  mean concave points  mean symmetry  \\\n",
       "0           0.27760          0.3001              0.14710         0.2419   \n",
       "1           0.07864          0.0869              0.07017         0.1812   \n",
       "2           0.15990          0.1974              0.12790         0.2069   \n",
       "3           0.28390          0.2414              0.10520         0.2597   \n",
       "4           0.13280          0.1980              0.10430         0.1809   \n",
       "\n",
       "   mean fractal dimension  ...  worst texture  worst perimeter  worst area  \\\n",
       "0                 0.07871  ...          17.33           184.60      2019.0   \n",
       "1                 0.05667  ...          23.41           158.80      1956.0   \n",
       "2                 0.05999  ...          25.53           152.50      1709.0   \n",
       "3                 0.09744  ...          26.50            98.87       567.7   \n",
       "4                 0.05883  ...          16.67           152.20      1575.0   \n",
       "\n",
       "   worst smoothness  worst compactness  worst concavity  worst concave points  \\\n",
       "0            0.1622             0.6656           0.7119                0.2654   \n",
       "1            0.1238             0.1866           0.2416                0.1860   \n",
       "2            0.1444             0.4245           0.4504                0.2430   \n",
       "3            0.2098             0.8663           0.6869                0.2575   \n",
       "4            0.1374             0.2050           0.4000                0.1625   \n",
       "\n",
       "   worst symmetry  worst fractal dimension  target  \n",
       "0          0.4601                  0.11890       0  \n",
       "1          0.2750                  0.08902       0  \n",
       "2          0.3613                  0.08758       0  \n",
       "3          0.6638                  0.17300       0  \n",
       "4          0.2364                  0.07678       0  \n",
       "\n",
       "[5 rows x 31 columns]"
      ]
     },
     "execution_count": 28,
     "metadata": {},
     "output_type": "execute_result"
    }
   ],
   "source": [
    "# test the functions\n",
    "from sklearn.datasets import load_breast_cancer\n",
    "breast_cancer = load_breast_cancer(as_frame = True)\n",
    "DF = breast_cancer.frame\n",
    "DF.head()"
   ]
  },
  {
   "cell_type": "code",
   "execution_count": 29,
   "id": "5c14fa5b",
   "metadata": {},
   "outputs": [],
   "source": [
    "# a & b) \n",
    "x = DF.iloc[: , :30].values\n",
    "y = DF[['target']].values"
   ]
  },
  {
   "cell_type": "code",
   "execution_count": 30,
   "id": "4df614d7",
   "metadata": {},
   "outputs": [],
   "source": [
    "# c) \n",
    "from sklearn.preprocessing import MinMaxScaler\n",
    "scaler = MinMaxScaler()\n",
    "x = scaler.fit_transform(x)\n",
    "y = scaler.fit_transform(y)\n",
    "x = x.T\n",
    "y = y.T"
   ]
  },
  {
   "cell_type": "code",
   "execution_count": 31,
   "id": "86ace020",
   "metadata": {},
   "outputs": [
    {
     "name": "stdout",
     "output_type": "stream",
     "text": [
      "Accuracy 0.968365553602812\n",
      "Weights: [[-1.1434992 ]\n",
      " [-1.30912899]\n",
      " [-1.24649986]\n",
      " [-1.57207726]\n",
      " [ 0.4750165 ]\n",
      " [-0.71928016]\n",
      " [-2.48155437]\n",
      " [-3.34113606]\n",
      " [ 0.41115119]\n",
      " [ 2.03552652]\n",
      " [-1.64607791]\n",
      " [ 0.46426397]\n",
      " [-1.29014345]\n",
      " [-1.22181241]\n",
      " [ 0.5989249 ]\n",
      " [ 0.91627859]\n",
      " [ 0.51280409]\n",
      " [ 0.27778245]\n",
      " [ 0.7602846 ]\n",
      " [ 0.93372269]\n",
      " [-2.3582086 ]\n",
      " [-2.14580201]\n",
      " [-2.21834932]\n",
      " [-2.15158438]\n",
      " [-0.98440036]\n",
      " [-1.12134051]\n",
      " [-1.78357458]\n",
      " [-3.27399809]\n",
      " [-1.05564681]\n",
      " [-0.1960431 ]]\n",
      "Intercept: 7.596854589203279\n"
     ]
    },
    {
     "data": {
      "image/png": "[encoded data removed]",
      "text/plain": [
       "<Figure size 640x480 with 1 Axes>"
      ]
     },
     "metadata": {},
     "output_type": "display_data"
    }
   ],
   "source": [
    "# d) \n",
    "weights,intercept = optimizer_f(x,y)\n",
    "print(\"Weights:\",weights)\n",
    "print(\"Intercept:\", intercept)"
   ]
  },
  {
   "cell_type": "code",
   "execution_count": 32,
   "id": "eb0dbf89",
   "metadata": {},
   "outputs": [
    {
     "name": "stdout",
     "output_type": "stream",
     "text": [
      "The final function is: 7.596854589203279 -1.143499 * mean radius + -1.309129 * mean texture + -1.246500 * mean perimeter + -1.572077 * mean area + 0.475017 * mean smoothness + -0.719280 * mean compactness + -2.481554 * mean concavity + -3.341136 * mean concave points + 0.411151 * mean symmetry + 2.035527 * mean fractal dimension + -1.646078 * radius error + 0.464264 * texture error + -1.290143 * perimeter error + -1.221812 * area error + 0.598925 * smoothness error + 0.916279 * compactness error + 0.512804 * concavity error + 0.277782 * concave points error + 0.760285 * symmetry error + 0.933723 * fractal dimension error + -2.358209 * worst radius + -2.145802 * worst texture + -2.218349 * worst perimeter + -2.151584 * worst area + -0.984400 * worst smoothness + -1.121341 * worst compactness + -1.783575 * worst concavity + -3.273998 * worst concave points + -1.055647 * worst symmetry + -0.196043 * worst fractal dimension"
     ]
    }
   ],
   "source": [
    "# e) report Final equatoin\n",
    "names = DF.columns.values.tolist()\n",
    "print(\"The final function is:\",intercept, end = \"\")\n",
    "for i in range(len(weights)-1):\n",
    "    print(\" %f * %s +\"%(weights[i],names[i]),end = \"\")\n",
    "print(\" %f * %s\"%(weights[len(weights)-1],names[len(weights)-1]),end = \"\")"
   ]
  },
  {
   "cell_type": "code",
   "execution_count": 33,
   "id": "87e9696f",
   "metadata": {},
   "outputs": [],
   "source": [
    "# f)\n",
    "# Rank parameters from positive to negative (biggest to smallest)\n",
    "# 2.03552652 mean fractal dimension\n",
    "# 0.93372269 fractal dimension error\n",
    "# 0.91627859 compactness error\n",
    "# 0.7602846 symmetry error\n",
    "# 0.5989249 smoothness error\n",
    "# 0.51280409 concavity error\n",
    "# 0.4750165 mean smoothness\n",
    "# 0.46426397 texture error\n",
    "# 0.41115119 mean symmetry\n",
    "# 0.27778245 concave points error\n",
    "# -0.1960431 worst fractal dimension\n",
    "# -0.71928016 mean compactness\n",
    "# -0.98440036 worst smoothness\n",
    "# -1.05564681 worst symmetry\n",
    "# -1.12134051 worst compactness\n",
    "# -1.1434992 mean radius\n",
    "# -1.22181241 area error\n",
    "# -1.24649986 mean perimeter\n",
    "# -1.29014345 perimeter error\n",
    "# -1.30912899 mean texture\n",
    "# -1.57207726 mean area\n",
    "# -1.64607791 radius error\n",
    "# -1.78357458 worst concavity\n",
    "# -2.14580201 worst texture\n",
    "# -2.15158438 worst area\n",
    "# -2.21834932 worst perimeter\n",
    "# -2.3582086 worst radius\n",
    "# -2.48155437 mean concavity\n",
    "# -3.27399809 worst concave points\n",
    "# -3.34113606 mean concave points\n",
    "\n",
    "# We can see that there are more coefficients that are more negatively related coefficient to the target than\n",
    "# positively related ones. \n",
    "# Since we have normalized the data, we should see the absolute value of the coefficients\n",
    "# the bigger the absolute value, the more impact on the target. \n",
    "# Top 3 impact on the target are C8, C28, and C7, all negatively related. \n",
    "# And the top 3 positively related are C10, C20, C16"
   ]
  },
  {
   "cell_type": "code",
   "execution_count": 34,
   "id": "7f2ea253",
   "metadata": {},
   "outputs": [],
   "source": [
    "# Problem 10"
   ]
  },
  {
   "cell_type": "code",
   "execution_count": 35,
   "id": "14d4c4c3",
   "metadata": {},
   "outputs": [
    {
     "data": {
      "text/html": [
       "<div>\n",
       "<style scoped>\n",
       "    .dataframe tbody tr th:only-of-type {\n",
       "        vertical-align: middle;\n",
       "    }\n",
       "\n",
       "    .dataframe tbody tr th {\n",
       "        vertical-align: top;\n",
       "    }\n",
       "\n",
       "    .dataframe thead th {\n",
       "        text-align: right;\n",
       "    }\n",
       "</style>\n",
       "<table border=\"1\" class=\"dataframe\">\n",
       "  <thead>\n",
       "    <tr style=\"text-align: right;\">\n",
       "      <th></th>\n",
       "      <th>MedInc</th>\n",
       "      <th>HouseAge</th>\n",
       "      <th>AveRooms</th>\n",
       "      <th>AveBedrms</th>\n",
       "      <th>Population</th>\n",
       "      <th>AveOccup</th>\n",
       "      <th>Latitude</th>\n",
       "      <th>Longitude</th>\n",
       "      <th>MedHouseVal</th>\n",
       "    </tr>\n",
       "  </thead>\n",
       "  <tbody>\n",
       "    <tr>\n",
       "      <th>0</th>\n",
       "      <td>8.3252</td>\n",
       "      <td>41.0</td>\n",
       "      <td>6.984127</td>\n",
       "      <td>1.023810</td>\n",
       "      <td>322.0</td>\n",
       "      <td>2.555556</td>\n",
       "      <td>37.88</td>\n",
       "      <td>-122.23</td>\n",
       "      <td>4.526</td>\n",
       "    </tr>\n",
       "    <tr>\n",
       "      <th>1</th>\n",
       "      <td>8.3014</td>\n",
       "      <td>21.0</td>\n",
       "      <td>6.238137</td>\n",
       "      <td>0.971880</td>\n",
       "      <td>2401.0</td>\n",
       "      <td>2.109842</td>\n",
       "      <td>37.86</td>\n",
       "      <td>-122.22</td>\n",
       "      <td>3.585</td>\n",
       "    </tr>\n",
       "    <tr>\n",
       "      <th>2</th>\n",
       "      <td>7.2574</td>\n",
       "      <td>52.0</td>\n",
       "      <td>8.288136</td>\n",
       "      <td>1.073446</td>\n",
       "      <td>496.0</td>\n",
       "      <td>2.802260</td>\n",
       "      <td>37.85</td>\n",
       "      <td>-122.24</td>\n",
       "      <td>3.521</td>\n",
       "    </tr>\n",
       "    <tr>\n",
       "      <th>3</th>\n",
       "      <td>5.6431</td>\n",
       "      <td>52.0</td>\n",
       "      <td>5.817352</td>\n",
       "      <td>1.073059</td>\n",
       "      <td>558.0</td>\n",
       "      <td>2.547945</td>\n",
       "      <td>37.85</td>\n",
       "      <td>-122.25</td>\n",
       "      <td>3.413</td>\n",
       "    </tr>\n",
       "    <tr>\n",
       "      <th>4</th>\n",
       "      <td>3.8462</td>\n",
       "      <td>52.0</td>\n",
       "      <td>6.281853</td>\n",
       "      <td>1.081081</td>\n",
       "      <td>565.0</td>\n",
       "      <td>2.181467</td>\n",
       "      <td>37.85</td>\n",
       "      <td>-122.25</td>\n",
       "      <td>3.422</td>\n",
       "    </tr>\n",
       "  </tbody>\n",
       "</table>\n",
       "</div>"
      ],
      "text/plain": [
       "   MedInc  HouseAge  AveRooms  AveBedrms  Population  AveOccup  Latitude  \\\n",
       "0  8.3252      41.0  6.984127   1.023810       322.0  2.555556     37.88   \n",
       "1  8.3014      21.0  6.238137   0.971880      2401.0  2.109842     37.86   \n",
       "2  7.2574      52.0  8.288136   1.073446       496.0  2.802260     37.85   \n",
       "3  5.6431      52.0  5.817352   1.073059       558.0  2.547945     37.85   \n",
       "4  3.8462      52.0  6.281853   1.081081       565.0  2.181467     37.85   \n",
       "\n",
       "   Longitude  MedHouseVal  \n",
       "0    -122.23        4.526  \n",
       "1    -122.22        3.585  \n",
       "2    -122.24        3.521  \n",
       "3    -122.25        3.413  \n",
       "4    -122.25        3.422  "
      ]
     },
     "execution_count": 35,
     "metadata": {},
     "output_type": "execute_result"
    }
   ],
   "source": [
    "# import dataset\n",
    "from sklearn.datasets import fetch_california_housing\n",
    "california_housing = fetch_california_housing(as_frame=True)\n",
    "DF = california_housing.frame\n",
    "DF.head()"
   ]
  },
  {
   "cell_type": "code",
   "execution_count": 36,
   "id": "899b4f25",
   "metadata": {},
   "outputs": [],
   "source": [
    "# a & b) \n",
    "x = DF[['MedInc','HouseAge','AveRooms','AveBedrms','Population',\n",
    "        'AveOccup','Latitude','Longitude']].values\n",
    "y = DF[['MedHouseVal']].values"
   ]
  },
  {
   "cell_type": "code",
   "execution_count": 37,
   "id": "9a7cfa3e",
   "metadata": {},
   "outputs": [],
   "source": [
    "# c)\n",
    "from sklearn.preprocessing import MinMaxScaler\n",
    "scaler = MinMaxScaler()\n",
    "x = scaler.fit_transform(x)\n",
    "y = scaler.fit_transform(y)"
   ]
  },
  {
   "cell_type": "code",
   "execution_count": 44,
   "id": "a8e9f83f",
   "metadata": {},
   "outputs": [
    {
     "name": "stdout",
     "output_type": "stream",
     "text": [
      "20640\n",
      "0.02245687523556031\n"
     ]
    }
   ],
   "source": [
    "# apply LeaveOneOut cross-validation and calculate MSE\n",
    "from sklearn.linear_model import LinearRegression\n",
    "from sklearn.model_selection import LeaveOneOut\n",
    "from sklearn.metrics import mean_squared_error\n",
    "cv = LeaveOneOut()\n",
    "model = LinearRegression()\n",
    "y_true = []\n",
    "y_pred = []\n",
    "for i,j in cv.split(x):\n",
    "    x_train = x[i, :]\n",
    "    x_test = x[j, :]\n",
    "    y_train = y[i]\n",
    "    y_test = y[j]\n",
    "    model.fit(x_train,y_train)\n",
    "    y_predicted = model.predict(x_test)\n",
    "    y_true.append(y_test[0][0])\n",
    "    y_pred.append(y_predicted[0][0])\n",
    "print(mean_squared_error(y_true,y_pred))"
   ]
  },
  {
   "cell_type": "code",
   "execution_count": 45,
   "id": "8eece68b",
   "metadata": {},
   "outputs": [
    {
     "name": "stdout",
     "output_type": "stream",
     "text": [
      "5\n",
      "0.01065684376084764\n"
     ]
    }
   ],
   "source": [
    "# apply KFold cross-validation and calculate MSE\n",
    "from sklearn.linear_model import LinearRegression\n",
    "from sklearn.model_selection import KFold\n",
    "from sklearn.metrics import mean_squared_error\n",
    "cv = KFold(shuffle = True, random_state = 265)\n",
    "model = LinearRegression()\n",
    "y_true = []\n",
    "y_pred = []\n",
    "for i,j in cv.split(x):\n",
    "    x_train = x[i, :]\n",
    "    x_test = x[j, :]\n",
    "    y_train = y[i]\n",
    "    y_test = y[j]\n",
    "    model.fit(x_train,y_train)\n",
    "    y_predicted = model.predict(x_test)\n",
    "    y_true.append(y_test[0][0])\n",
    "    y_pred.append(y_predicted[0][0])\n",
    "print(mean_squared_error(y_true,y_pred))"
   ]
  },
  {
   "cell_type": "code",
   "execution_count": 40,
   "id": "3b6d226d",
   "metadata": {},
   "outputs": [
    {
     "name": "stdout",
     "output_type": "stream",
     "text": [
      "0.023161877546173583\n"
     ]
    }
   ],
   "source": [
    "# apply Train-test split cross-validation and calculate MSE\n",
    "from sklearn.linear_model import LinearRegression\n",
    "from sklearn.model_selection import train_test_split\n",
    "from sklearn.metrics import mean_squared_error\n",
    "model = LinearRegression()\n",
    "x_train,x_test,y_train,y_test = train_test_split(x,y,test_size = 0.3,random_state = 265)\n",
    "model.fit(x_train,y_train)\n",
    "y_predicted = model.predict(x_test)\n",
    "print(mean_squared_error(y_test,y_predicted))"
   ]
  },
  {
   "cell_type": "code",
   "execution_count": 41,
   "id": "708b43ea",
   "metadata": {},
   "outputs": [],
   "source": [
    "# The MSE of LOOCV is 0.0224569\n",
    "# The MSE of KFold is 0.0106568\n",
    "# The MSE of Train-test split is 0.0231619\n",
    "# We can find that the MSE of KFold is the smallest, and MSE of other two is nearly same.\n",
    "# The reason of difference between LOOCV and KFold might be that the number of samples to calculate MSE of KFold is only k = 5,\n",
    "# but the number of samples to calculate MSE of LOOCV is 20640, which will increase MSE.\n",
    "# And the reason of difference between LOOCV,KFOLD and Train-test split is that there are more trainning data for LOOCV and KFold."
   ]
  }
 ],
 "metadata": {
  "kernelspec": {
   "display_name": "Python 3 (ipykernel)",
   "language": "python",
   "name": "python3"
  },
  "language_info": {
   "codemirror_mode": {
    "name": "ipython",
    "version": 3
   },
   "file_extension": ".py",
   "mimetype": "text/x-python",
   "name": "python",
   "nbconvert_exporter": "python",
   "pygments_lexer": "ipython3",
   "version": "3.9.13"
  }
 },
 "nbformat": 4,
 "nbformat_minor": 5
}
